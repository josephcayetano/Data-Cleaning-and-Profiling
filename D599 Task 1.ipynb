{
 "cells": [
  {
   "cell_type": "markdown",
   "id": "329048ec-d946-4af6-8770-5d16fd4825e8",
   "metadata": {},
   "source": [
    "# Data Cleaning Approach Task 1"
   ]
  },
  {
   "cell_type": "markdown",
   "id": "0705f3ea-0448-40d3-9b98-a49250066967",
   "metadata": {},
   "source": [
    "### 1. duplicate rows"
   ]
  },
  {
   "cell_type": "markdown",
   "id": "75e51206-cc21-4164-9a88-450d6344fb12",
   "metadata": {},
   "source": [
    "### 2. missing values"
   ]
  },
  {
   "cell_type": "markdown",
   "id": "2281eeec-e00d-4605-841d-485c99d0db24",
   "metadata": {},
   "source": [
    "### 3. formatting errors"
   ]
  },
  {
   "cell_type": "markdown",
   "id": "2d0eed14-ed96-43ed-a20c-845cf033145f",
   "metadata": {
    "jp-MarkdownHeadingCollapsed": true
   },
   "source": [
    "### 4. inconsistent entries"
   ]
  },
  {
   "cell_type": "markdown",
   "id": "b11af04c-65db-48e6-aa9e-0a3549aded0b",
   "metadata": {},
   "source": [
    "### 5. outliers"
   ]
  },
  {
   "cell_type": "code",
   "execution_count": 64,
   "id": "82161952-6533-4deb-8fed-03b1e96fa2bc",
   "metadata": {},
   "outputs": [
    {
     "data": {
      "text/html": [
       "<div>\n",
       "<style scoped>\n",
       "    .dataframe tbody tr th:only-of-type {\n",
       "        vertical-align: middle;\n",
       "    }\n",
       "\n",
       "    .dataframe tbody tr th {\n",
       "        vertical-align: top;\n",
       "    }\n",
       "\n",
       "    .dataframe thead th {\n",
       "        text-align: right;\n",
       "    }\n",
       "</style>\n",
       "<table border=\"1\" class=\"dataframe\">\n",
       "  <thead>\n",
       "    <tr style=\"text-align: right;\">\n",
       "      <th></th>\n",
       "      <th>Age</th>\n",
       "      <th>Turnover</th>\n",
       "      <th>BusinessTravel</th>\n",
       "      <th>DailyRate</th>\n",
       "      <th>Department</th>\n",
       "      <th>DistanceFromHome</th>\n",
       "      <th>Education</th>\n",
       "      <th>EducationField</th>\n",
       "      <th>EmployeeCount</th>\n",
       "      <th>EmployeeNumber</th>\n",
       "      <th>...</th>\n",
       "      <th>RelationshipSatisfaction</th>\n",
       "      <th>StandardHours</th>\n",
       "      <th>StockOptionLevel</th>\n",
       "      <th>TotalWorkingYears</th>\n",
       "      <th>TrainingTimesLastYear</th>\n",
       "      <th>WorkLifeBalance</th>\n",
       "      <th>YearsAtCompany</th>\n",
       "      <th>YearsInCurrentRole</th>\n",
       "      <th>YearsSinceLastPromotion</th>\n",
       "      <th>YearsWithCurrManager</th>\n",
       "    </tr>\n",
       "  </thead>\n",
       "  <tbody>\n",
       "    <tr>\n",
       "      <th>0</th>\n",
       "      <td>33.0</td>\n",
       "      <td>Yes</td>\n",
       "      <td>Non-Travel</td>\n",
       "      <td>241</td>\n",
       "      <td>Hardware</td>\n",
       "      <td>16</td>\n",
       "      <td>3</td>\n",
       "      <td>Technical Degree</td>\n",
       "      <td>1</td>\n",
       "      <td>3505</td>\n",
       "      <td>...</td>\n",
       "      <td>1</td>\n",
       "      <td>80</td>\n",
       "      <td>4</td>\n",
       "      <td>35.0</td>\n",
       "      <td>4.0</td>\n",
       "      <td>4</td>\n",
       "      <td>13</td>\n",
       "      <td>2</td>\n",
       "      <td>8.0</td>\n",
       "      <td>11</td>\n",
       "    </tr>\n",
       "    <tr>\n",
       "      <th>1</th>\n",
       "      <td>35.0</td>\n",
       "      <td>Yes</td>\n",
       "      <td>Non-Travel</td>\n",
       "      <td>679</td>\n",
       "      <td>Support</td>\n",
       "      <td>7</td>\n",
       "      <td>2</td>\n",
       "      <td>Life Sciences</td>\n",
       "      <td>1</td>\n",
       "      <td>1129</td>\n",
       "      <td>...</td>\n",
       "      <td>1</td>\n",
       "      <td>80</td>\n",
       "      <td>1</td>\n",
       "      <td>5.0</td>\n",
       "      <td>1.0</td>\n",
       "      <td>1</td>\n",
       "      <td>4</td>\n",
       "      <td>3</td>\n",
       "      <td>3.0</td>\n",
       "      <td>4</td>\n",
       "    </tr>\n",
       "    <tr>\n",
       "      <th>2</th>\n",
       "      <td>27.0</td>\n",
       "      <td>Yes</td>\n",
       "      <td>Travel_Frequently</td>\n",
       "      <td>359</td>\n",
       "      <td>Hardware</td>\n",
       "      <td>50</td>\n",
       "      <td>1</td>\n",
       "      <td>Life Sciences</td>\n",
       "      <td>1</td>\n",
       "      <td>6305</td>\n",
       "      <td>...</td>\n",
       "      <td>4</td>\n",
       "      <td>80</td>\n",
       "      <td>4</td>\n",
       "      <td>10.0</td>\n",
       "      <td>4.0</td>\n",
       "      <td>2</td>\n",
       "      <td>4</td>\n",
       "      <td>2</td>\n",
       "      <td>4.0</td>\n",
       "      <td>2</td>\n",
       "    </tr>\n",
       "    <tr>\n",
       "      <th>3</th>\n",
       "      <td>44.0</td>\n",
       "      <td>No</td>\n",
       "      <td>Travel_Rarely</td>\n",
       "      <td>1133</td>\n",
       "      <td>Software</td>\n",
       "      <td>12</td>\n",
       "      <td>5</td>\n",
       "      <td>Life Sciences</td>\n",
       "      <td>1</td>\n",
       "      <td>4595</td>\n",
       "      <td>...</td>\n",
       "      <td>4</td>\n",
       "      <td>80</td>\n",
       "      <td>3</td>\n",
       "      <td>19.0</td>\n",
       "      <td>4.0</td>\n",
       "      <td>1</td>\n",
       "      <td>14</td>\n",
       "      <td>7</td>\n",
       "      <td>12.0</td>\n",
       "      <td>2</td>\n",
       "    </tr>\n",
       "    <tr>\n",
       "      <th>4</th>\n",
       "      <td>56.0</td>\n",
       "      <td>No</td>\n",
       "      <td>Travel_Rarely</td>\n",
       "      <td>118</td>\n",
       "      <td>Software</td>\n",
       "      <td>43</td>\n",
       "      <td>2</td>\n",
       "      <td>Human Resources</td>\n",
       "      <td>1</td>\n",
       "      <td>7203</td>\n",
       "      <td>...</td>\n",
       "      <td>2</td>\n",
       "      <td>80</td>\n",
       "      <td>1</td>\n",
       "      <td>3.0</td>\n",
       "      <td>3.0</td>\n",
       "      <td>4</td>\n",
       "      <td>1</td>\n",
       "      <td>1</td>\n",
       "      <td>1.0</td>\n",
       "      <td>1</td>\n",
       "    </tr>\n",
       "    <tr>\n",
       "      <th>...</th>\n",
       "      <td>...</td>\n",
       "      <td>...</td>\n",
       "      <td>...</td>\n",
       "      <td>...</td>\n",
       "      <td>...</td>\n",
       "      <td>...</td>\n",
       "      <td>...</td>\n",
       "      <td>...</td>\n",
       "      <td>...</td>\n",
       "      <td>...</td>\n",
       "      <td>...</td>\n",
       "      <td>...</td>\n",
       "      <td>...</td>\n",
       "      <td>...</td>\n",
       "      <td>...</td>\n",
       "      <td>...</td>\n",
       "      <td>...</td>\n",
       "      <td>...</td>\n",
       "      <td>...</td>\n",
       "      <td>...</td>\n",
       "      <td>...</td>\n",
       "    </tr>\n",
       "    <tr>\n",
       "      <th>10317</th>\n",
       "      <td>23.0</td>\n",
       "      <td>No</td>\n",
       "      <td>Travel_Rarely</td>\n",
       "      <td>1373</td>\n",
       "      <td>Sales</td>\n",
       "      <td>2</td>\n",
       "      <td>3</td>\n",
       "      <td>Human Resources</td>\n",
       "      <td>1</td>\n",
       "      <td>9552</td>\n",
       "      <td>...</td>\n",
       "      <td>1</td>\n",
       "      <td>80</td>\n",
       "      <td>4</td>\n",
       "      <td>26.0</td>\n",
       "      <td>4.0</td>\n",
       "      <td>3</td>\n",
       "      <td>1</td>\n",
       "      <td>1</td>\n",
       "      <td>1.0</td>\n",
       "      <td>1</td>\n",
       "    </tr>\n",
       "    <tr>\n",
       "      <th>10318</th>\n",
       "      <td>47.0</td>\n",
       "      <td>Yes</td>\n",
       "      <td>Non-Travel</td>\n",
       "      <td>1250</td>\n",
       "      <td>Human Resources</td>\n",
       "      <td>27</td>\n",
       "      <td>3</td>\n",
       "      <td>Medical</td>\n",
       "      <td>1</td>\n",
       "      <td>4546</td>\n",
       "      <td>...</td>\n",
       "      <td>4</td>\n",
       "      <td>80</td>\n",
       "      <td>1</td>\n",
       "      <td>19.0</td>\n",
       "      <td>6.0</td>\n",
       "      <td>2</td>\n",
       "      <td>17</td>\n",
       "      <td>1</td>\n",
       "      <td>8.0</td>\n",
       "      <td>11</td>\n",
       "    </tr>\n",
       "    <tr>\n",
       "      <th>10319</th>\n",
       "      <td>32.0</td>\n",
       "      <td>No</td>\n",
       "      <td>Non-Travel</td>\n",
       "      <td>145</td>\n",
       "      <td>Hardware</td>\n",
       "      <td>49</td>\n",
       "      <td>1</td>\n",
       "      <td>Other</td>\n",
       "      <td>1</td>\n",
       "      <td>9885</td>\n",
       "      <td>...</td>\n",
       "      <td>3</td>\n",
       "      <td>80</td>\n",
       "      <td>4</td>\n",
       "      <td>22.0</td>\n",
       "      <td>5.0</td>\n",
       "      <td>4</td>\n",
       "      <td>17</td>\n",
       "      <td>11</td>\n",
       "      <td>13.0</td>\n",
       "      <td>2</td>\n",
       "    </tr>\n",
       "    <tr>\n",
       "      <th>10320</th>\n",
       "      <td>47.0</td>\n",
       "      <td>Yes</td>\n",
       "      <td>Travel_Rarely</td>\n",
       "      <td>486</td>\n",
       "      <td>Hardware</td>\n",
       "      <td>44</td>\n",
       "      <td>5</td>\n",
       "      <td>Other</td>\n",
       "      <td>1</td>\n",
       "      <td>4636</td>\n",
       "      <td>...</td>\n",
       "      <td>3</td>\n",
       "      <td>80</td>\n",
       "      <td>3</td>\n",
       "      <td>12.0</td>\n",
       "      <td>6.0</td>\n",
       "      <td>4</td>\n",
       "      <td>7</td>\n",
       "      <td>5</td>\n",
       "      <td>5.0</td>\n",
       "      <td>1</td>\n",
       "    </tr>\n",
       "    <tr>\n",
       "      <th>10321</th>\n",
       "      <td>40.0</td>\n",
       "      <td>Yes</td>\n",
       "      <td>Travel_Frequently</td>\n",
       "      <td>1213</td>\n",
       "      <td>Hardware</td>\n",
       "      <td>33</td>\n",
       "      <td>1</td>\n",
       "      <td>Technical Degree</td>\n",
       "      <td>1</td>\n",
       "      <td>5122</td>\n",
       "      <td>...</td>\n",
       "      <td>3</td>\n",
       "      <td>80</td>\n",
       "      <td>4</td>\n",
       "      <td>29.0</td>\n",
       "      <td>3.0</td>\n",
       "      <td>4</td>\n",
       "      <td>29</td>\n",
       "      <td>27</td>\n",
       "      <td>27.0</td>\n",
       "      <td>18</td>\n",
       "    </tr>\n",
       "  </tbody>\n",
       "</table>\n",
       "<p>10322 rows × 35 columns</p>\n",
       "</div>"
      ],
      "text/plain": [
       "        Age Turnover     BusinessTravel  DailyRate       Department  \\\n",
       "0      33.0      Yes         Non-Travel        241         Hardware   \n",
       "1      35.0      Yes         Non-Travel        679          Support   \n",
       "2      27.0      Yes  Travel_Frequently        359         Hardware   \n",
       "3      44.0       No      Travel_Rarely       1133         Software   \n",
       "4      56.0       No      Travel_Rarely        118         Software   \n",
       "...     ...      ...                ...        ...              ...   \n",
       "10317  23.0       No      Travel_Rarely       1373            Sales   \n",
       "10318  47.0      Yes         Non-Travel       1250  Human Resources   \n",
       "10319  32.0       No         Non-Travel        145         Hardware   \n",
       "10320  47.0      Yes      Travel_Rarely        486         Hardware   \n",
       "10321  40.0      Yes  Travel_Frequently       1213         Hardware   \n",
       "\n",
       "       DistanceFromHome  Education    EducationField  EmployeeCount  \\\n",
       "0                    16          3  Technical Degree              1   \n",
       "1                     7          2     Life Sciences              1   \n",
       "2                    50          1     Life Sciences              1   \n",
       "3                    12          5     Life Sciences              1   \n",
       "4                    43          2   Human Resources              1   \n",
       "...                 ...        ...               ...            ...   \n",
       "10317                 2          3   Human Resources              1   \n",
       "10318                27          3           Medical              1   \n",
       "10319                49          1             Other              1   \n",
       "10320                44          5             Other              1   \n",
       "10321                33          1  Technical Degree              1   \n",
       "\n",
       "       EmployeeNumber  ...  RelationshipSatisfaction StandardHours  \\\n",
       "0                3505  ...                         1            80   \n",
       "1                1129  ...                         1            80   \n",
       "2                6305  ...                         4            80   \n",
       "3                4595  ...                         4            80   \n",
       "4                7203  ...                         2            80   \n",
       "...               ...  ...                       ...           ...   \n",
       "10317            9552  ...                         1            80   \n",
       "10318            4546  ...                         4            80   \n",
       "10319            9885  ...                         3            80   \n",
       "10320            4636  ...                         3            80   \n",
       "10321            5122  ...                         3            80   \n",
       "\n",
       "       StockOptionLevel  TotalWorkingYears  TrainingTimesLastYear  \\\n",
       "0                     4               35.0                    4.0   \n",
       "1                     1                5.0                    1.0   \n",
       "2                     4               10.0                    4.0   \n",
       "3                     3               19.0                    4.0   \n",
       "4                     1                3.0                    3.0   \n",
       "...                 ...                ...                    ...   \n",
       "10317                 4               26.0                    4.0   \n",
       "10318                 1               19.0                    6.0   \n",
       "10319                 4               22.0                    5.0   \n",
       "10320                 3               12.0                    6.0   \n",
       "10321                 4               29.0                    3.0   \n",
       "\n",
       "      WorkLifeBalance  YearsAtCompany YearsInCurrentRole  \\\n",
       "0                   4              13                  2   \n",
       "1                   1               4                  3   \n",
       "2                   2               4                  2   \n",
       "3                   1              14                  7   \n",
       "4                   4               1                  1   \n",
       "...               ...             ...                ...   \n",
       "10317               3               1                  1   \n",
       "10318               2              17                  1   \n",
       "10319               4              17                 11   \n",
       "10320               4               7                  5   \n",
       "10321               4              29                 27   \n",
       "\n",
       "       YearsSinceLastPromotion  YearsWithCurrManager  \n",
       "0                          8.0                    11  \n",
       "1                          3.0                     4  \n",
       "2                          4.0                     2  \n",
       "3                         12.0                     2  \n",
       "4                          1.0                     1  \n",
       "...                        ...                   ...  \n",
       "10317                      1.0                     1  \n",
       "10318                      8.0                    11  \n",
       "10319                     13.0                     2  \n",
       "10320                      5.0                     1  \n",
       "10321                     27.0                    18  \n",
       "\n",
       "[10322 rows x 35 columns]"
      ]
     },
     "execution_count": 64,
     "metadata": {},
     "output_type": "execute_result"
    }
   ],
   "source": [
    "import pandas as pd\n",
    "import numpy as np\n",
    "import matplotlib.pyplot as plt\n",
    "import seaborn as sns\n",
    "\n",
    "df = pd.read_excel('C:/Users/jcaye/Downloads/Employee Turnover Dataset.xlsx')\n",
    "df"
   ]
  },
  {
   "cell_type": "code",
   "execution_count": 65,
   "id": "ad8e6a3c-1127-4f0c-90a8-deab9f2d8860",
   "metadata": {},
   "outputs": [
    {
     "data": {
      "text/plain": [
       "Age                         float64\n",
       "Turnover                     object\n",
       "BusinessTravel               object\n",
       "DailyRate                     int64\n",
       "Department                   object\n",
       "DistanceFromHome              int64\n",
       "Education                     int64\n",
       "EducationField               object\n",
       "EmployeeCount                 int64\n",
       "EmployeeNumber                int64\n",
       "EnvironmentSatisfaction       int64\n",
       "Gender                       object\n",
       "HourlyRate                    int64\n",
       "JobInvolvement                int64\n",
       "JobLevel                      int64\n",
       "JobRole                      object\n",
       "JobSatisfaction               int64\n",
       "MaritalStatus                object\n",
       "MonthlyIncome               float64\n",
       "MonthlyRate                 float64\n",
       "NumCompaniesWorked          float64\n",
       "Over18                       object\n",
       "OverTime                     object\n",
       "PercentSalaryHike             int64\n",
       "PerformanceRating             int64\n",
       "RelationshipSatisfaction      int64\n",
       "StandardHours                 int64\n",
       "StockOptionLevel              int64\n",
       "TotalWorkingYears           float64\n",
       "TrainingTimesLastYear       float64\n",
       "WorkLifeBalance               int64\n",
       "YearsAtCompany                int64\n",
       "YearsInCurrentRole            int64\n",
       "YearsSinceLastPromotion     float64\n",
       "YearsWithCurrManager         object\n",
       "dtype: object"
      ]
     },
     "execution_count": 65,
     "metadata": {},
     "output_type": "execute_result"
    }
   ],
   "source": [
    "df.dtypes"
   ]
  },
  {
   "cell_type": "markdown",
   "id": "3624b418-4988-4e35-aaa7-1d0e3da0cd41",
   "metadata": {},
   "source": [
    "## Duplicate Entries"
   ]
  },
  {
   "cell_type": "code",
   "execution_count": 66,
   "id": "a9627597-3af5-4a5f-a828-d1c2729102d7",
   "metadata": {},
   "outputs": [
    {
     "data": {
      "text/html": [
       "<div>\n",
       "<style scoped>\n",
       "    .dataframe tbody tr th:only-of-type {\n",
       "        vertical-align: middle;\n",
       "    }\n",
       "\n",
       "    .dataframe tbody tr th {\n",
       "        vertical-align: top;\n",
       "    }\n",
       "\n",
       "    .dataframe thead th {\n",
       "        text-align: right;\n",
       "    }\n",
       "</style>\n",
       "<table border=\"1\" class=\"dataframe\">\n",
       "  <thead>\n",
       "    <tr style=\"text-align: right;\">\n",
       "      <th></th>\n",
       "      <th>Age</th>\n",
       "      <th>Turnover</th>\n",
       "      <th>BusinessTravel</th>\n",
       "      <th>DailyRate</th>\n",
       "      <th>Department</th>\n",
       "      <th>DistanceFromHome</th>\n",
       "      <th>Education</th>\n",
       "      <th>EducationField</th>\n",
       "      <th>EmployeeCount</th>\n",
       "      <th>EmployeeNumber</th>\n",
       "      <th>...</th>\n",
       "      <th>RelationshipSatisfaction</th>\n",
       "      <th>StandardHours</th>\n",
       "      <th>StockOptionLevel</th>\n",
       "      <th>TotalWorkingYears</th>\n",
       "      <th>TrainingTimesLastYear</th>\n",
       "      <th>WorkLifeBalance</th>\n",
       "      <th>YearsAtCompany</th>\n",
       "      <th>YearsInCurrentRole</th>\n",
       "      <th>YearsSinceLastPromotion</th>\n",
       "      <th>YearsWithCurrManager</th>\n",
       "    </tr>\n",
       "  </thead>\n",
       "  <tbody>\n",
       "    <tr>\n",
       "      <th>712</th>\n",
       "      <td>22.0</td>\n",
       "      <td>No</td>\n",
       "      <td>Travel_Rarely</td>\n",
       "      <td>611</td>\n",
       "      <td>Sales</td>\n",
       "      <td>33</td>\n",
       "      <td>2</td>\n",
       "      <td>Other</td>\n",
       "      <td>1</td>\n",
       "      <td>416</td>\n",
       "      <td>...</td>\n",
       "      <td>3</td>\n",
       "      <td>80</td>\n",
       "      <td>4</td>\n",
       "      <td>5.0</td>\n",
       "      <td>5.0</td>\n",
       "      <td>2</td>\n",
       "      <td>5</td>\n",
       "      <td>2</td>\n",
       "      <td>5.0</td>\n",
       "      <td>3</td>\n",
       "    </tr>\n",
       "    <tr>\n",
       "      <th>985</th>\n",
       "      <td>42.0</td>\n",
       "      <td>No</td>\n",
       "      <td>Non-Travel</td>\n",
       "      <td>568</td>\n",
       "      <td>Sales</td>\n",
       "      <td>50</td>\n",
       "      <td>1</td>\n",
       "      <td>Life Sciences</td>\n",
       "      <td>1</td>\n",
       "      <td>9921</td>\n",
       "      <td>...</td>\n",
       "      <td>3</td>\n",
       "      <td>80</td>\n",
       "      <td>1</td>\n",
       "      <td>10.0</td>\n",
       "      <td>3.0</td>\n",
       "      <td>3</td>\n",
       "      <td>4</td>\n",
       "      <td>2</td>\n",
       "      <td>1.0</td>\n",
       "      <td>3</td>\n",
       "    </tr>\n",
       "    <tr>\n",
       "      <th>1022</th>\n",
       "      <td>28.0</td>\n",
       "      <td>Yes</td>\n",
       "      <td>Travel_Rarely</td>\n",
       "      <td>406</td>\n",
       "      <td>Research &amp; Development</td>\n",
       "      <td>38</td>\n",
       "      <td>1</td>\n",
       "      <td>Technical Degree</td>\n",
       "      <td>1</td>\n",
       "      <td>5528</td>\n",
       "      <td>...</td>\n",
       "      <td>2</td>\n",
       "      <td>80</td>\n",
       "      <td>2</td>\n",
       "      <td>38.0</td>\n",
       "      <td>3.0</td>\n",
       "      <td>3</td>\n",
       "      <td>23</td>\n",
       "      <td>19</td>\n",
       "      <td>11.0</td>\n",
       "      <td>7</td>\n",
       "    </tr>\n",
       "    <tr>\n",
       "      <th>1033</th>\n",
       "      <td>29.0</td>\n",
       "      <td>Yes</td>\n",
       "      <td>Non-Travel</td>\n",
       "      <td>492</td>\n",
       "      <td>Support</td>\n",
       "      <td>49</td>\n",
       "      <td>5</td>\n",
       "      <td>Marketing</td>\n",
       "      <td>1</td>\n",
       "      <td>5587</td>\n",
       "      <td>...</td>\n",
       "      <td>1</td>\n",
       "      <td>80</td>\n",
       "      <td>4</td>\n",
       "      <td>13.0</td>\n",
       "      <td>4.0</td>\n",
       "      <td>1</td>\n",
       "      <td>9</td>\n",
       "      <td>6</td>\n",
       "      <td>9.0</td>\n",
       "      <td>7</td>\n",
       "    </tr>\n",
       "    <tr>\n",
       "      <th>1212</th>\n",
       "      <td>41.0</td>\n",
       "      <td>Yes</td>\n",
       "      <td>Travel_Rarely</td>\n",
       "      <td>711</td>\n",
       "      <td>Hardware</td>\n",
       "      <td>49</td>\n",
       "      <td>5</td>\n",
       "      <td>Human Resources</td>\n",
       "      <td>1</td>\n",
       "      <td>9892</td>\n",
       "      <td>...</td>\n",
       "      <td>2</td>\n",
       "      <td>80</td>\n",
       "      <td>3</td>\n",
       "      <td>9.0</td>\n",
       "      <td>1.0</td>\n",
       "      <td>3</td>\n",
       "      <td>7</td>\n",
       "      <td>4</td>\n",
       "      <td>5.0</td>\n",
       "      <td>2</td>\n",
       "    </tr>\n",
       "    <tr>\n",
       "      <th>...</th>\n",
       "      <td>...</td>\n",
       "      <td>...</td>\n",
       "      <td>...</td>\n",
       "      <td>...</td>\n",
       "      <td>...</td>\n",
       "      <td>...</td>\n",
       "      <td>...</td>\n",
       "      <td>...</td>\n",
       "      <td>...</td>\n",
       "      <td>...</td>\n",
       "      <td>...</td>\n",
       "      <td>...</td>\n",
       "      <td>...</td>\n",
       "      <td>...</td>\n",
       "      <td>...</td>\n",
       "      <td>...</td>\n",
       "      <td>...</td>\n",
       "      <td>...</td>\n",
       "      <td>...</td>\n",
       "      <td>...</td>\n",
       "      <td>...</td>\n",
       "    </tr>\n",
       "    <tr>\n",
       "      <th>10272</th>\n",
       "      <td>43.0</td>\n",
       "      <td>No</td>\n",
       "      <td>Non-Travel</td>\n",
       "      <td>567</td>\n",
       "      <td>Support</td>\n",
       "      <td>43</td>\n",
       "      <td>5</td>\n",
       "      <td>Human Resources</td>\n",
       "      <td>1</td>\n",
       "      <td>9851</td>\n",
       "      <td>...</td>\n",
       "      <td>2</td>\n",
       "      <td>80</td>\n",
       "      <td>3</td>\n",
       "      <td>1.0</td>\n",
       "      <td>1.0</td>\n",
       "      <td>1</td>\n",
       "      <td>1</td>\n",
       "      <td>1</td>\n",
       "      <td>1.0</td>\n",
       "      <td>1</td>\n",
       "    </tr>\n",
       "    <tr>\n",
       "      <th>10275</th>\n",
       "      <td>47.0</td>\n",
       "      <td>Yes</td>\n",
       "      <td>Non-Travel</td>\n",
       "      <td>1034</td>\n",
       "      <td>Hardware</td>\n",
       "      <td>2</td>\n",
       "      <td>4</td>\n",
       "      <td>Life Sciences</td>\n",
       "      <td>1</td>\n",
       "      <td>9951</td>\n",
       "      <td>...</td>\n",
       "      <td>1</td>\n",
       "      <td>80</td>\n",
       "      <td>4</td>\n",
       "      <td>3.0</td>\n",
       "      <td>4.0</td>\n",
       "      <td>1</td>\n",
       "      <td>1</td>\n",
       "      <td>1</td>\n",
       "      <td>1.0</td>\n",
       "      <td>1</td>\n",
       "    </tr>\n",
       "    <tr>\n",
       "      <th>10290</th>\n",
       "      <td>27.0</td>\n",
       "      <td>No</td>\n",
       "      <td>Non-Travel</td>\n",
       "      <td>202</td>\n",
       "      <td>Research &amp; Development</td>\n",
       "      <td>16</td>\n",
       "      <td>5</td>\n",
       "      <td>Marketing</td>\n",
       "      <td>1</td>\n",
       "      <td>9920</td>\n",
       "      <td>...</td>\n",
       "      <td>4</td>\n",
       "      <td>80</td>\n",
       "      <td>2</td>\n",
       "      <td>23.0</td>\n",
       "      <td>1.0</td>\n",
       "      <td>3</td>\n",
       "      <td>5</td>\n",
       "      <td>5</td>\n",
       "      <td>5.0</td>\n",
       "      <td>4</td>\n",
       "    </tr>\n",
       "    <tr>\n",
       "      <th>10291</th>\n",
       "      <td>27.0</td>\n",
       "      <td>No</td>\n",
       "      <td>Travel_Rarely</td>\n",
       "      <td>649</td>\n",
       "      <td>Hardware</td>\n",
       "      <td>44</td>\n",
       "      <td>4</td>\n",
       "      <td>Human Resources</td>\n",
       "      <td>1</td>\n",
       "      <td>9908</td>\n",
       "      <td>...</td>\n",
       "      <td>3</td>\n",
       "      <td>80</td>\n",
       "      <td>1</td>\n",
       "      <td>20.0</td>\n",
       "      <td>6.0</td>\n",
       "      <td>2</td>\n",
       "      <td>3</td>\n",
       "      <td>3</td>\n",
       "      <td>1.0</td>\n",
       "      <td>3</td>\n",
       "    </tr>\n",
       "    <tr>\n",
       "      <th>10319</th>\n",
       "      <td>32.0</td>\n",
       "      <td>No</td>\n",
       "      <td>Non-Travel</td>\n",
       "      <td>145</td>\n",
       "      <td>Hardware</td>\n",
       "      <td>49</td>\n",
       "      <td>1</td>\n",
       "      <td>Other</td>\n",
       "      <td>1</td>\n",
       "      <td>9885</td>\n",
       "      <td>...</td>\n",
       "      <td>3</td>\n",
       "      <td>80</td>\n",
       "      <td>4</td>\n",
       "      <td>22.0</td>\n",
       "      <td>5.0</td>\n",
       "      <td>4</td>\n",
       "      <td>17</td>\n",
       "      <td>11</td>\n",
       "      <td>13.0</td>\n",
       "      <td>2</td>\n",
       "    </tr>\n",
       "  </tbody>\n",
       "</table>\n",
       "<p>298 rows × 35 columns</p>\n",
       "</div>"
      ],
      "text/plain": [
       "        Age Turnover BusinessTravel  DailyRate              Department  \\\n",
       "712    22.0       No  Travel_Rarely        611                   Sales   \n",
       "985    42.0       No     Non-Travel        568                   Sales   \n",
       "1022   28.0      Yes  Travel_Rarely        406  Research & Development   \n",
       "1033   29.0      Yes     Non-Travel        492                 Support   \n",
       "1212   41.0      Yes  Travel_Rarely        711                Hardware   \n",
       "...     ...      ...            ...        ...                     ...   \n",
       "10272  43.0       No     Non-Travel        567                 Support   \n",
       "10275  47.0      Yes     Non-Travel       1034                Hardware   \n",
       "10290  27.0       No     Non-Travel        202  Research & Development   \n",
       "10291  27.0       No  Travel_Rarely        649                Hardware   \n",
       "10319  32.0       No     Non-Travel        145                Hardware   \n",
       "\n",
       "       DistanceFromHome  Education    EducationField  EmployeeCount  \\\n",
       "712                  33          2             Other              1   \n",
       "985                  50          1     Life Sciences              1   \n",
       "1022                 38          1  Technical Degree              1   \n",
       "1033                 49          5         Marketing              1   \n",
       "1212                 49          5   Human Resources              1   \n",
       "...                 ...        ...               ...            ...   \n",
       "10272                43          5   Human Resources              1   \n",
       "10275                 2          4     Life Sciences              1   \n",
       "10290                16          5         Marketing              1   \n",
       "10291                44          4   Human Resources              1   \n",
       "10319                49          1             Other              1   \n",
       "\n",
       "       EmployeeNumber  ...  RelationshipSatisfaction StandardHours  \\\n",
       "712               416  ...                         3            80   \n",
       "985              9921  ...                         3            80   \n",
       "1022             5528  ...                         2            80   \n",
       "1033             5587  ...                         1            80   \n",
       "1212             9892  ...                         2            80   \n",
       "...               ...  ...                       ...           ...   \n",
       "10272            9851  ...                         2            80   \n",
       "10275            9951  ...                         1            80   \n",
       "10290            9920  ...                         4            80   \n",
       "10291            9908  ...                         3            80   \n",
       "10319            9885  ...                         3            80   \n",
       "\n",
       "       StockOptionLevel  TotalWorkingYears  TrainingTimesLastYear  \\\n",
       "712                   4                5.0                    5.0   \n",
       "985                   1               10.0                    3.0   \n",
       "1022                  2               38.0                    3.0   \n",
       "1033                  4               13.0                    4.0   \n",
       "1212                  3                9.0                    1.0   \n",
       "...                 ...                ...                    ...   \n",
       "10272                 3                1.0                    1.0   \n",
       "10275                 4                3.0                    4.0   \n",
       "10290                 2               23.0                    1.0   \n",
       "10291                 1               20.0                    6.0   \n",
       "10319                 4               22.0                    5.0   \n",
       "\n",
       "      WorkLifeBalance  YearsAtCompany YearsInCurrentRole  \\\n",
       "712                 2               5                  2   \n",
       "985                 3               4                  2   \n",
       "1022                3              23                 19   \n",
       "1033                1               9                  6   \n",
       "1212                3               7                  4   \n",
       "...               ...             ...                ...   \n",
       "10272               1               1                  1   \n",
       "10275               1               1                  1   \n",
       "10290               3               5                  5   \n",
       "10291               2               3                  3   \n",
       "10319               4              17                 11   \n",
       "\n",
       "       YearsSinceLastPromotion  YearsWithCurrManager  \n",
       "712                        5.0                     3  \n",
       "985                        1.0                     3  \n",
       "1022                      11.0                     7  \n",
       "1033                       9.0                     7  \n",
       "1212                       5.0                     2  \n",
       "...                        ...                   ...  \n",
       "10272                      1.0                     1  \n",
       "10275                      1.0                     1  \n",
       "10290                      5.0                     4  \n",
       "10291                      1.0                     3  \n",
       "10319                     13.0                     2  \n",
       "\n",
       "[298 rows x 35 columns]"
      ]
     },
     "execution_count": 66,
     "metadata": {},
     "output_type": "execute_result"
    }
   ],
   "source": [
    "df[df.duplicated()]"
   ]
  },
  {
   "cell_type": "markdown",
   "id": "3c25fc7a-3bbb-4b6a-9395-cd65ad573d56",
   "metadata": {},
   "source": [
    "<p>For the quality issue of duplicate entries in the dataset, I used the duplicated() function from pandas to return 'True' if the row is a duplicate. Then, I filtered the data to output only the rows that are 'True'. There are 298 duplicate rows in the dataset and they need to removed to ensure data integrity."
   ]
  },
  {
   "cell_type": "markdown",
   "id": "ade3a379-0c61-4e48-8709-afed2618c51f",
   "metadata": {},
   "source": [
    "### Explanation of the results"
   ]
  },
  {
   "cell_type": "markdown",
   "id": "bc38e69e-b514-42b9-8c20-0a6ff1b59fa5",
   "metadata": {},
   "source": [
    "After executing the code with the duplicated() function, it returns all the duplicate entries in the data. There are 298 duplicate rows and they need to be removed in order to have consistent data results. "
   ]
  },
  {
   "cell_type": "markdown",
   "id": "a734a0f4-c38e-4147-a87a-8527a1b0ef5c",
   "metadata": {},
   "source": [
    "### Fixing duplicate entries"
   ]
  },
  {
   "cell_type": "code",
   "execution_count": 67,
   "id": "ebb37906-2a2b-41f5-acde-f9fc6cb504dc",
   "metadata": {},
   "outputs": [],
   "source": [
    "df = df.drop_duplicates()"
   ]
  },
  {
   "cell_type": "code",
   "execution_count": 68,
   "id": "7a91942f-4816-439b-ba55-ebef85921aaf",
   "metadata": {},
   "outputs": [
    {
     "data": {
      "text/html": [
       "<div>\n",
       "<style scoped>\n",
       "    .dataframe tbody tr th:only-of-type {\n",
       "        vertical-align: middle;\n",
       "    }\n",
       "\n",
       "    .dataframe tbody tr th {\n",
       "        vertical-align: top;\n",
       "    }\n",
       "\n",
       "    .dataframe thead th {\n",
       "        text-align: right;\n",
       "    }\n",
       "</style>\n",
       "<table border=\"1\" class=\"dataframe\">\n",
       "  <thead>\n",
       "    <tr style=\"text-align: right;\">\n",
       "      <th></th>\n",
       "      <th>Age</th>\n",
       "      <th>Turnover</th>\n",
       "      <th>BusinessTravel</th>\n",
       "      <th>DailyRate</th>\n",
       "      <th>Department</th>\n",
       "      <th>DistanceFromHome</th>\n",
       "      <th>Education</th>\n",
       "      <th>EducationField</th>\n",
       "      <th>EmployeeCount</th>\n",
       "      <th>EmployeeNumber</th>\n",
       "      <th>...</th>\n",
       "      <th>RelationshipSatisfaction</th>\n",
       "      <th>StandardHours</th>\n",
       "      <th>StockOptionLevel</th>\n",
       "      <th>TotalWorkingYears</th>\n",
       "      <th>TrainingTimesLastYear</th>\n",
       "      <th>WorkLifeBalance</th>\n",
       "      <th>YearsAtCompany</th>\n",
       "      <th>YearsInCurrentRole</th>\n",
       "      <th>YearsSinceLastPromotion</th>\n",
       "      <th>YearsWithCurrManager</th>\n",
       "    </tr>\n",
       "  </thead>\n",
       "  <tbody>\n",
       "  </tbody>\n",
       "</table>\n",
       "<p>0 rows × 35 columns</p>\n",
       "</div>"
      ],
      "text/plain": [
       "Empty DataFrame\n",
       "Columns: [Age, Turnover, BusinessTravel, DailyRate, Department, DistanceFromHome, Education, EducationField, EmployeeCount, EmployeeNumber, EnvironmentSatisfaction, Gender, HourlyRate, JobInvolvement, JobLevel, JobRole, JobSatisfaction, MaritalStatus, MonthlyIncome, MonthlyRate, NumCompaniesWorked, Over18, OverTime, PercentSalaryHike, PerformanceRating, RelationshipSatisfaction, StandardHours, StockOptionLevel, TotalWorkingYears, TrainingTimesLastYear, WorkLifeBalance, YearsAtCompany, YearsInCurrentRole, YearsSinceLastPromotion, YearsWithCurrManager]\n",
       "Index: []\n",
       "\n",
       "[0 rows x 35 columns]"
      ]
     },
     "execution_count": 68,
     "metadata": {},
     "output_type": "execute_result"
    }
   ],
   "source": [
    "df[df.duplicated()]"
   ]
  },
  {
   "cell_type": "markdown",
   "id": "fbb85a1e-17bf-4636-8a06-232b16a28f41",
   "metadata": {},
   "source": [
    "I modified the dataset by dropping duplicate rows using the drop_duplicates() function. By default, this function keeps the first occurence of each duplicate row in the data. After running the duplicated() function, the data does not contain duplicate rows anymore. "
   ]
  },
  {
   "cell_type": "markdown",
   "id": "38b124b5-103e-402a-9c84-edeabbbd7bc6",
   "metadata": {},
   "source": [
    "### Explaining why I chose the specific data cleaning technique"
   ]
  },
  {
   "cell_type": "markdown",
   "id": "5dfd34a5-50a0-492c-a4db-bade914a0d38",
   "metadata": {},
   "source": [
    "I removed all the duplicate rows in the dataset to prevent skewed analysis and incorrect statistical conclusions, and to improve the querying performance of the dataset. Duplicate rows should always be removed to have a reliable and accurate data results."
   ]
  },
  {
   "cell_type": "markdown",
   "id": "e40bd94e-a3b7-440d-993f-50f90e9ce181",
   "metadata": {},
   "source": [
    "## Missing Values"
   ]
  },
  {
   "cell_type": "code",
   "execution_count": 69,
   "id": "58b60cdf-4f5e-4458-97df-ea6dc1bffa57",
   "metadata": {},
   "outputs": [
    {
     "data": {
      "text/plain": [
       "Age                           1\n",
       "Turnover                      0\n",
       "BusinessTravel                0\n",
       "DailyRate                     0\n",
       "Department                    0\n",
       "DistanceFromHome              0\n",
       "Education                     0\n",
       "EducationField                1\n",
       "EmployeeCount                 0\n",
       "EmployeeNumber                0\n",
       "EnvironmentSatisfaction       0\n",
       "Gender                        3\n",
       "HourlyRate                    0\n",
       "JobInvolvement                0\n",
       "JobLevel                      0\n",
       "JobRole                       0\n",
       "JobSatisfaction               0\n",
       "MaritalStatus                 0\n",
       "MonthlyIncome                 1\n",
       "MonthlyRate                   2\n",
       "NumCompaniesWorked            1\n",
       "Over18                        0\n",
       "OverTime                      0\n",
       "PercentSalaryHike             0\n",
       "PerformanceRating             0\n",
       "RelationshipSatisfaction      0\n",
       "StandardHours                 0\n",
       "StockOptionLevel              0\n",
       "TotalWorkingYears             1\n",
       "TrainingTimesLastYear       418\n",
       "WorkLifeBalance               0\n",
       "YearsAtCompany                0\n",
       "YearsInCurrentRole            0\n",
       "YearsSinceLastPromotion       2\n",
       "YearsWithCurrManager          0\n",
       "dtype: int64"
      ]
     },
     "execution_count": 69,
     "metadata": {},
     "output_type": "execute_result"
    }
   ],
   "source": [
    "df.isnull().sum()"
   ]
  },
  {
   "cell_type": "markdown",
   "id": "46068a52-27a9-42ea-9c4a-72a6634828fa",
   "metadata": {},
   "source": [
    "For the quality issue of missing values, I used the isnull() function from pandas to return 'True' if the cell contains 'NaN' or a missing value. I also used the sum() function to count the total number of 'True' values or missing values in each column. There are 9 variables with missing values, which are: Age, EducationField, Gender, MonthlyIncome, MonthlyRate, NumCompaniesWorked, TotalWorkingYears, TrainingTimesLastYear, and YearsSinceLastPromotion. The column TrainingTimesLastYear has the highest number of missing values with 418."
   ]
  },
  {
   "cell_type": "markdown",
   "id": "b7b9aa54-d825-4937-b1cc-fd8feb5473c9",
   "metadata": {},
   "source": [
    "### Explanation of the results"
   ]
  },
  {
   "cell_type": "markdown",
   "id": "4a81c020-1ccb-4158-ba77-2894623908c9",
   "metadata": {},
   "source": [
    "After executing the code with the isnull() function and sum function(), it returned the total missing values for each column. There are 9 columns with missing values, which are: Age, EducationField, Gender, MonthlyIncome, MonthlyRate, NumCompaniesWorked, TotalWorkingYears, TrainingTimesLastYear, and YearsSinceLastPromotion. The column TrainingTimesLastYear has the highest number of missing values with 418. These columns will be filled with values."
   ]
  },
  {
   "cell_type": "markdown",
   "id": "a09dd35d-b998-4eb3-a5a9-481cf97b8c6d",
   "metadata": {},
   "source": [
    "### Fixing missing values"
   ]
  },
  {
   "cell_type": "code",
   "execution_count": 70,
   "id": "e17c22c8-42a2-4314-9fe2-b0a0e3074208",
   "metadata": {},
   "outputs": [],
   "source": [
    "median_age = df['Age'].median() #median age is 39\n",
    "mode_educationfield = df['EducationField'].mode()[0] #marketing is the most frequent educationfield value\n",
    "mode_gender = df['Gender'].mode()[0] #male is the most frequent gender value \n",
    "mean_monthlyincome = df['MonthlyIncome'].mean() #mean of monthlyincome is 25799.43\n",
    "mean_monthlyrate = df['MonthlyRate'].mean() #mean of monthlyrate is 87517866.58\n",
    "median_numcompaniesworked = df['NumCompaniesWorked'].median() #median of numcompaniesworked is 4\n",
    "median_totalworkingyears = df['TotalWorkingYears'].median() #median of totalworkingyears is 21\n",
    "median_trainingtimeslastyear = df['TrainingTimesLastYear'].median() #median of trainingtimeslast year is 3\n",
    "median_yearssincelastpromotion = df['YearsSinceLastPromotion'].median() #median of yearssincelastpromotion is 4\n",
    "\n",
    "df = df.fillna({'Age': median_age, 'EducationField': mode_educationfield, \n",
    "                'Gender': mode_gender, 'MonthlyIncome': mean_monthlyincome,\n",
    "                'MonthlyRate': mean_monthlyrate, 'NumCompaniesWorked': median_numcompaniesworked,\n",
    "                'TotalWorkingYears': median_totalworkingyears, 'TrainingTimesLastYear': median_trainingtimeslastyear,\n",
    "                'YearsSinceLastPromotion': median_yearssincelastpromotion})"
   ]
  },
  {
   "cell_type": "markdown",
   "id": "5712a12c-15f8-46c0-876c-90c664ea6354",
   "metadata": {},
   "source": [
    "#### Please ignore the warning message above, the code was still executed with no issues"
   ]
  },
  {
   "cell_type": "code",
   "execution_count": 71,
   "id": "7afc1c11-e1de-415f-9b4e-7063044889d0",
   "metadata": {},
   "outputs": [
    {
     "data": {
      "text/plain": [
       "Age                         0\n",
       "Turnover                    0\n",
       "BusinessTravel              0\n",
       "DailyRate                   0\n",
       "Department                  0\n",
       "DistanceFromHome            0\n",
       "Education                   0\n",
       "EducationField              0\n",
       "EmployeeCount               0\n",
       "EmployeeNumber              0\n",
       "EnvironmentSatisfaction     0\n",
       "Gender                      0\n",
       "HourlyRate                  0\n",
       "JobInvolvement              0\n",
       "JobLevel                    0\n",
       "JobRole                     0\n",
       "JobSatisfaction             0\n",
       "MaritalStatus               0\n",
       "MonthlyIncome               0\n",
       "MonthlyRate                 0\n",
       "NumCompaniesWorked          0\n",
       "Over18                      0\n",
       "OverTime                    0\n",
       "PercentSalaryHike           0\n",
       "PerformanceRating           0\n",
       "RelationshipSatisfaction    0\n",
       "StandardHours               0\n",
       "StockOptionLevel            0\n",
       "TotalWorkingYears           0\n",
       "TrainingTimesLastYear       0\n",
       "WorkLifeBalance             0\n",
       "YearsAtCompany              0\n",
       "YearsInCurrentRole          0\n",
       "YearsSinceLastPromotion     0\n",
       "YearsWithCurrManager        0\n",
       "dtype: int64"
      ]
     },
     "execution_count": 71,
     "metadata": {},
     "output_type": "execute_result"
    }
   ],
   "source": [
    "df.isnull().sum()"
   ]
  },
  {
   "cell_type": "markdown",
   "id": "42e60671-5000-4693-8227-5b2511e91643",
   "metadata": {},
   "source": [
    "I modified the dataset by filling in missing values with mean, median, and mode. For the Age column, I replaced its missing values with the median age, which is 39. I was able to replace it using the fillna() function and inserting median age into the function as a parameter. For the EducationField, I replaced its missing values with the most frequent value, which is marketing. I used the fillna() function and inserted the most frequent EducationField value into the function as a parameter. For the Gender column, I replaced its missing values with the most frequent gender value, which is male. I used the fillna() function and inserted the most frequent Gender value into the function as a parameter. For the MonthlyIncome column, I replaced its missing values with the mean of all MonthlyIncome values. I used the fillna() function and inserted the mean into the function as a parameter. For the MonthlyRate column, I replaced its missing values with the mean of all MonthlyRate values. I used the fillna() function and inserted the mean into the function as a parameter. For the NumCompaniesWorked column, I replaced its missing values with the median of all NumCompaniesWorked values. I used the fillna() function and inserted the median into the function as a parameter. For the TotalWorkingYears column, I replaced its missing values with the median of all TotalWorkingYears values. I used the fillna() function and inserted the median into the function as a parameter. For the TrainingTimesLastYear, I replaced its missing values with the median of all TrainingTimesLastYear values. I used the fillna() function and inserted the median into the function as a parameter. For the YearsSinceLastPromotion, I replaced its missing values with the median of all YearsSinceLastPromotion values. I used the fillna() function and inserted the median into the function as a parameter."
   ]
  },
  {
   "cell_type": "markdown",
   "id": "29e37eeb-9f9a-429d-a134-8a2f4245882b",
   "metadata": {},
   "source": [
    "Checking the total number of missing values in the dataset again, we can see that every column is now filled, and there is no more missing values. "
   ]
  },
  {
   "cell_type": "markdown",
   "id": "0cc10b32-c97d-450c-8c4d-8a0452dd0963",
   "metadata": {},
   "source": [
    "### Explaining why I chose the specific data cleaning technique"
   ]
  },
  {
   "cell_type": "markdown",
   "id": "9014ec17-3a9e-43b3-bcad-f7d6800618b2",
   "metadata": {},
   "source": [
    "I replaced the missing values in the Age column with the median value of all Age values because the median is less affected by outliers, and the median value returns a whole number. If I used the mean instead, the missing values would get values with decimal places, which is not ideal when measuring age. In the EducationField column, I replaced its missing values with the mode, which is the most frequently occuring value in the EducationField column. I used the mode because it is ideal for categorical column like the EducationField column, and it helps maintain the original distribution of the dataset. For the Gender column, I used mode to replace its missing values. I replaced the missing values with the value 'male' in the Gender column since it is the value that appears frequently, and using the most frequent value is perfect for a categorical variable like Gender. In the MonthlyIncome column, I replaced its missing values with the mean value of all MonthlyIncome values because using the mean value is ideal for columns that are normally distributed like the MonthlyIncome column. Also, the MonthlyIncome column is a float data type so having a mean value with decimals is acceptable. For the MonthlyRate column, I used the mean value to replace its missing values because the column is normally distributed, and it is usually ideal to use the mean value for columns like income. In the NumCompaniesWorked column, its missing values were replaced with the median value of all NumCompaniesWorked values to maintain the column's original distribution. Also, if the mean value was used instead, it would return a value with decimals, which is not ideal for a discrete variable like NumCompaniesWorked. For the TotalWorkingYears column, its missing values were replaced with the median value of all TotalWorkingYears values. I used the median value because the TotalWorkingYears column is a discrete variable that usually represents whole numbers. If I used the mean value, I would get a value with decimals, which is not ideal for discrete variables. In the TrainingTimesLastYear column, I used the median value to replace its missing values to preserve the column's original distribution, and since it is a discrete variable, it is more ideal to use the median value. For the YearsSinceLastPromotion column, I replaced its missing values with the median value because it is a disrete variable that usually represents whole numbers, and decimal values is not required in the context of this column. "
   ]
  },
  {
   "cell_type": "markdown",
   "id": "5399df01-aa93-496d-b143-11d1121098d6",
   "metadata": {},
   "source": [
    "Essentially, I replaced all the missing values in the dataset with mean, mode, and median values rather than deleting the missing rows completely to preserve the dataset's size, avoid biases, and maintain data integrity."
   ]
  },
  {
   "cell_type": "markdown",
   "id": "666a16eb-c30e-42cb-8643-2d674ac62a0b",
   "metadata": {},
   "source": [
    "## Formatting Errors"
   ]
  },
  {
   "cell_type": "code",
   "execution_count": 72,
   "id": "d4fae097-96ee-4b17-aa34-5ab9a699c0b0",
   "metadata": {},
   "outputs": [
    {
     "data": {
      "text/plain": [
       "0    33.0\n",
       "1    35.0\n",
       "2    27.0\n",
       "3    44.0\n",
       "4    56.0\n",
       "Name: Age, dtype: float64"
      ]
     },
     "execution_count": 72,
     "metadata": {},
     "output_type": "execute_result"
    }
   ],
   "source": [
    "df['Age'].head()"
   ]
  },
  {
   "cell_type": "code",
   "execution_count": 73,
   "id": "aa25c3c7-56d5-4757-a168-e4c14ad8e9e9",
   "metadata": {},
   "outputs": [
    {
     "data": {
      "text/plain": [
       "0    1.0\n",
       "1    6.0\n",
       "2    8.0\n",
       "3    5.0\n",
       "4    6.0\n",
       "Name: NumCompaniesWorked, dtype: float64"
      ]
     },
     "execution_count": 73,
     "metadata": {},
     "output_type": "execute_result"
    }
   ],
   "source": [
    "df['NumCompaniesWorked'].head()"
   ]
  },
  {
   "cell_type": "code",
   "execution_count": 74,
   "id": "01ebfd38-3a37-441d-a669-ff7c22c8c8f8",
   "metadata": {},
   "outputs": [
    {
     "data": {
      "text/plain": [
       "0    35.0\n",
       "1     5.0\n",
       "2    10.0\n",
       "3    19.0\n",
       "4     3.0\n",
       "Name: TotalWorkingYears, dtype: float64"
      ]
     },
     "execution_count": 74,
     "metadata": {},
     "output_type": "execute_result"
    }
   ],
   "source": [
    "df['TotalWorkingYears'].head()"
   ]
  },
  {
   "cell_type": "code",
   "execution_count": 75,
   "id": "ae57684a-499b-49b7-bf88-e4c3cd725eaf",
   "metadata": {},
   "outputs": [
    {
     "data": {
      "text/plain": [
       "0    4.0\n",
       "1    1.0\n",
       "2    4.0\n",
       "3    4.0\n",
       "4    3.0\n",
       "Name: TrainingTimesLastYear, dtype: float64"
      ]
     },
     "execution_count": 75,
     "metadata": {},
     "output_type": "execute_result"
    }
   ],
   "source": [
    "df['TrainingTimesLastYear'].head()"
   ]
  },
  {
   "cell_type": "code",
   "execution_count": 76,
   "id": "fd212032-660f-43b0-8f91-7707b7176f89",
   "metadata": {},
   "outputs": [
    {
     "data": {
      "text/plain": [
       "0     8.0\n",
       "1     3.0\n",
       "2     4.0\n",
       "3    12.0\n",
       "4     1.0\n",
       "Name: YearsSinceLastPromotion, dtype: float64"
      ]
     },
     "execution_count": 76,
     "metadata": {},
     "output_type": "execute_result"
    }
   ],
   "source": [
    "df['YearsSinceLastPromotion'].head()"
   ]
  },
  {
   "cell_type": "code",
   "execution_count": 77,
   "id": "7bc3b488-addc-4a46-91e4-ff3ab262c7a1",
   "metadata": {},
   "outputs": [
    {
     "data": {
      "text/plain": [
       "array(['Non-Travel', 'Travel_Frequently', 'Travel_Rarely', 1, -1, '00',\n",
       "       ' '], dtype=object)"
      ]
     },
     "execution_count": 77,
     "metadata": {},
     "output_type": "execute_result"
    }
   ],
   "source": [
    "df['BusinessTravel'].unique()"
   ]
  },
  {
   "cell_type": "markdown",
   "id": "75ed149d-e266-4378-9417-861537795380",
   "metadata": {},
   "source": [
    "For the quality issue of formatting errors, I used the head() function for each column in the data to check a sample of its values and whether its data type make sense with its values. After inspecting, there are columns in the data that should have an int data type instead of a float. For example, the Age column should have an int data type because age is discrete and is usually represented as a whole number. We won't be measuring values precisely, so decimal values won't be neeeded. This also applies to these columns: NumCompaniesWorked, TotalWorkingYears, TrainingTimesLastYear, and YearsSinceLastPromotion. These columns will be converted to an int data type."
   ]
  },
  {
   "cell_type": "markdown",
   "id": "e9ea8ad1-c2a5-4785-8ada-8149a97dc495",
   "metadata": {},
   "source": [
    "I used the unique() function from pandas to return the unique values in the BusinessTravel column and check whether it contains yes or no values like it is stated in the data dictionary. The column did not contain any yes or no values but instead, it contains travel frequency values. The values for the BusinessTravel will be changed to yes or no, since that is what stated in the data dictionary. "
   ]
  },
  {
   "cell_type": "markdown",
   "id": "e77fc091-a413-4d23-b9a4-935e65bd94d3",
   "metadata": {},
   "source": [
    "### Explanation of the results"
   ]
  },
  {
   "cell_type": "markdown",
   "id": "30226914-4c8f-487d-8e00-ab4b5fb24649",
   "metadata": {},
   "source": [
    "Using the head() function, we get to see sample values for the columns Age, NumCompaniesWorked, TotalWorkingYears, TrainingTimesLastYear, and YearsSinceLastPromotion. In the Age column, its values have decimal points because it is a float data type. Since we are not going to measure age values precisely, decimals won't be needed, which is why the Age column needs to be converted to an int data type. In the NumCompaniesWorked, its values have decimal points since it is a float data type. Counting the total number of companies worked is usually represented as a whole number, which is why it will be converted to an int data type. In the TotalWorkingYears column, decimals are present in its values. Counting the total number of working years is usually represented as a whole number, which is why the column will be converted to an int data type. In the column TrainingTimesLastYear, its values have decimal points. This column should be a discrete variable, which is why it will be converted to an int data type. In the YearsSinceLastPromotion, decimals points are present in its values. YearsSinceLastPromotion is usually represented as a whole number, so it will be converted to an int data type. "
   ]
  },
  {
   "cell_type": "markdown",
   "id": "ca96e8a5-3738-411f-a147-e818c0fcc696",
   "metadata": {},
   "source": [
    "Using the unique() function for the BusinessTravel column, we get to see its unique values. As you can see, the column contains string and numeric values, which is a bit confusing. We will be changing its values to yes or no for simplicity."
   ]
  },
  {
   "cell_type": "markdown",
   "id": "e03c8051-f9da-432d-9c1c-c9fd3a0b26b6",
   "metadata": {},
   "source": [
    "### Fixing formatting errors"
   ]
  },
  {
   "cell_type": "code",
   "execution_count": 78,
   "id": "d5a9e66f-8919-44b8-8bd9-383c71545b16",
   "metadata": {},
   "outputs": [],
   "source": [
    "column_to_convert = ['Age', 'NumCompaniesWorked', 'TotalWorkingYears', 'TrainingTimesLastYear', 'YearsSinceLastPromotion']\n",
    "df[column_to_convert] = df[column_to_convert].astype(int)"
   ]
  },
  {
   "cell_type": "markdown",
   "id": "2c18cd2e-503a-4dcc-ab0b-a5d9bdd3fc87",
   "metadata": {},
   "source": [
    "#### Please ignore the warning message above, the code was still executed with no issues"
   ]
  },
  {
   "cell_type": "code",
   "execution_count": 79,
   "id": "29224088-0f91-4a46-85f2-ae31522da315",
   "metadata": {},
   "outputs": [
    {
     "data": {
      "text/plain": [
       "Age                           int32\n",
       "Turnover                     object\n",
       "BusinessTravel               object\n",
       "DailyRate                     int64\n",
       "Department                   object\n",
       "DistanceFromHome              int64\n",
       "Education                     int64\n",
       "EducationField               object\n",
       "EmployeeCount                 int64\n",
       "EmployeeNumber                int64\n",
       "EnvironmentSatisfaction       int64\n",
       "Gender                       object\n",
       "HourlyRate                    int64\n",
       "JobInvolvement                int64\n",
       "JobLevel                      int64\n",
       "JobRole                      object\n",
       "JobSatisfaction               int64\n",
       "MaritalStatus                object\n",
       "MonthlyIncome               float64\n",
       "MonthlyRate                 float64\n",
       "NumCompaniesWorked            int32\n",
       "Over18                       object\n",
       "OverTime                     object\n",
       "PercentSalaryHike             int64\n",
       "PerformanceRating             int64\n",
       "RelationshipSatisfaction      int64\n",
       "StandardHours                 int64\n",
       "StockOptionLevel              int64\n",
       "TotalWorkingYears             int32\n",
       "TrainingTimesLastYear         int32\n",
       "WorkLifeBalance               int64\n",
       "YearsAtCompany                int64\n",
       "YearsInCurrentRole            int64\n",
       "YearsSinceLastPromotion       int32\n",
       "YearsWithCurrManager         object\n",
       "dtype: object"
      ]
     },
     "execution_count": 79,
     "metadata": {},
     "output_type": "execute_result"
    }
   ],
   "source": [
    "df.dtypes"
   ]
  },
  {
   "cell_type": "markdown",
   "id": "c15f676c-432d-41e7-88aa-82240bcaf46a",
   "metadata": {},
   "source": [
    "I modified the dataset by converting the data types of columns Age, NumCompaniesWorked, TotalWorkingYears, TrainingTimesLastYear, and YearsSinceLastPromotion from float to int using the astype() function and inserting int to the function as a parameter. These columns now have an int data type that prevents decimal values."
   ]
  },
  {
   "cell_type": "code",
   "execution_count": 82,
   "id": "1341993a-2475-42d0-82f8-66ebb8d4f9ef",
   "metadata": {},
   "outputs": [],
   "source": [
    "mapping = {\n",
    "    'Travel_Rarely': 'Yes',\n",
    "    'Travel_Frequently': 'Yes',\n",
    "    'Non-Travel': 'No',\n",
    "    1: 'No',\n",
    "    -1: 'No',\n",
    "    '00': 'No'\n",
    "}\n",
    "\n",
    "# Replace values in the BusinessTravel column\n",
    "df['BusinessTravel'] = df['BusinessTravel'].map(mapping)"
   ]
  },
  {
   "cell_type": "code",
   "execution_count": 83,
   "id": "2970d6be-710b-46af-99ba-fd21376fc5ce",
   "metadata": {},
   "outputs": [
    {
     "data": {
      "text/plain": [
       "array(['No', 'Yes', nan], dtype=object)"
      ]
     },
     "execution_count": 83,
     "metadata": {},
     "output_type": "execute_result"
    }
   ],
   "source": [
    "df['BusinessTravel'].unique()"
   ]
  },
  {
   "cell_type": "markdown",
   "id": "8f82b807-597d-494a-a26b-8db8bd278d67",
   "metadata": {},
   "source": [
    "I modified the values of the BusinessTravel column by replacing the original values 'Travel_Rarely' and 'Travel_Frequently to 'Yes', and replacing the rest of the values to 'No'. This was done using the map() function. "
   ]
  },
  {
   "cell_type": "markdown",
   "id": "d3a9d3ef-e75a-443d-a424-c8647f59e2fd",
   "metadata": {},
   "source": [
    "### Explaining why I chose the specific data cleaning technique"
   ]
  },
  {
   "cell_type": "markdown",
   "id": "155b01af-e3a2-48d6-a376-28c8eb3518cf",
   "metadata": {},
   "source": [
    "I converted the Age, NumCompaniesWorked, TotalWorkingYears, TrainingTimesLastYear, and YearsSinceLastPromotion columns from float to an int data type because these columns typically represent whole numbers, which align with their real-world interpretation. Having decimal values in discrete columns do not make sense. Also, it is much easier to understand and visualize discrete values in the context of these columns."
   ]
  },
  {
   "cell_type": "markdown",
   "id": "3d30b206-0771-4ee0-8192-05e476455bb0",
   "metadata": {},
   "source": [
    "I changed the values of the BusinessTravel column to 'yes' or 'no' because the column had  both string and numeric values, which was confusing. By using only the values 'yes' or 'no', it makes the data more simpler and easy to understand. "
   ]
  },
  {
   "cell_type": "markdown",
   "id": "cfc97c90-48e2-46cb-92c1-15291309e055",
   "metadata": {},
   "source": [
    "##  Inconsistent Entries "
   ]
  },
  {
   "cell_type": "code",
   "execution_count": 84,
   "id": "a18115ea-dd5e-4a0c-a98a-4949de01bdc6",
   "metadata": {},
   "outputs": [
    {
     "name": "stdout",
     "output_type": "stream",
     "text": [
      "      EmployeeNumber  TotalWorkingYears  YearsAtCompany\n",
      "2560            9994                 -1               3\n"
     ]
    }
   ],
   "source": [
    "inconsistent_entries = df[df['TotalWorkingYears'] < df['YearsAtCompany']]\n",
    "print(inconsistent_entries[['EmployeeNumber', 'TotalWorkingYears', 'YearsAtCompany']])"
   ]
  },
  {
   "cell_type": "code",
   "execution_count": 85,
   "id": "90768428-c8d3-4f6f-916f-050095074916",
   "metadata": {},
   "outputs": [
    {
     "name": "stdout",
     "output_type": "stream",
     "text": [
      "      EmployeeNumber  EmployeeCount\n",
      "140             8115             -1\n",
      "7167              21              3\n",
      "7877             194             -1\n"
     ]
    }
   ],
   "source": [
    "inconsistent_entries = df[df['EmployeeCount'] != 1]\n",
    "print(inconsistent_entries[['EmployeeNumber','EmployeeCount']])"
   ]
  },
  {
   "cell_type": "code",
   "execution_count": 86,
   "id": "99eb7d26-420a-4f2f-b67c-83cf8da4d196",
   "metadata": {},
   "outputs": [
    {
     "name": "stdout",
     "output_type": "stream",
     "text": [
      "      EmployeeNumber  MonthlyIncome\n",
      "9962            1362       -38005.0\n"
     ]
    }
   ],
   "source": [
    "inconsistent_entries = df[df['MonthlyIncome'] < 0]\n",
    "print(inconsistent_entries[['EmployeeNumber','MonthlyIncome']])"
   ]
  },
  {
   "cell_type": "markdown",
   "id": "bf0c24fa-05f5-4290-aa7f-2c511f0810fa",
   "metadata": {},
   "source": [
    "For the quality issue of inconsistent entries, there are values from multiple columns in the data that do not make sense. For example, looking at the TotalWorkingYears and YearsAtCompany columns, I created a condition to return rows where the TotalWorkingYears is less than YearsAtCompany. It returned a single row where it has a negative number of TotalWorkingYears and is less than YearsAtCompany. It is impossible to have more number of years working at a single company than the total number of working years. This is an inconsistency in the data, and it must be fixed."
   ]
  },
  {
   "cell_type": "markdown",
   "id": "a66e44f0-f7fe-497e-a79f-bb568faa9cd5",
   "metadata": {},
   "source": [
    "There are also two columns in the data that are inconsistent. The first column is EmployeeCount. The EmployeeCount value for each row should be 1. I created a condition where it returns rows if the EmployeeCount values is not equal to 1. Any returned rows indicates an inconsistency. Another inconsistent column is MonthlyIncome. The values in the MonthlyIncome column should always be positive because there is no such thing as negative income. I created a condition where it returns rows if the MonthlyIncome values is less than 0. Any returned rows indicates an inconsistency. "
   ]
  },
  {
   "cell_type": "markdown",
   "id": "ba763a97-99bf-4662-834b-c26c31011cde",
   "metadata": {},
   "source": [
    "### Explanation of the results"
   ]
  },
  {
   "cell_type": "markdown",
   "id": "15e7c34d-6e2b-4ff5-8e75-ea4758377da8",
   "metadata": {},
   "source": [
    "After creating a condition where TotalWorkingYears is less than YearsAtCompany, it returns a row that has a negative value in the TotalWorkingYears. This indicates inconsistency since it is not possible to have a negative total number of working years and it is less than YearsAtCompany. In the EmployeeCount column, another inconsistency is found. All values in the EmployeeCount columns should be 1, but it returned rows with -1 and 3 values. In the MonthlyIncome column, it returned a row with a negative value. Since it is impossible to have a negative monthly income, this indicates inconsistency. "
   ]
  },
  {
   "cell_type": "markdown",
   "id": "9a43f2ec-e16c-496d-82c2-e69f71b0341d",
   "metadata": {},
   "source": [
    "### Fixing inconsistent entries"
   ]
  },
  {
   "cell_type": "code",
   "execution_count": 87,
   "id": "f5d48444-5116-4b08-ae71-a499141e3abc",
   "metadata": {},
   "outputs": [],
   "source": [
    "df = df[df['EmployeeNumber'] != 9994] #dropped for having -1 TotalWorkingYears"
   ]
  },
  {
   "cell_type": "code",
   "execution_count": 88,
   "id": "e86fdbd0-3218-46c6-ba94-b8588d90ed84",
   "metadata": {},
   "outputs": [
    {
     "data": {
      "text/html": [
       "<div>\n",
       "<style scoped>\n",
       "    .dataframe tbody tr th:only-of-type {\n",
       "        vertical-align: middle;\n",
       "    }\n",
       "\n",
       "    .dataframe tbody tr th {\n",
       "        vertical-align: top;\n",
       "    }\n",
       "\n",
       "    .dataframe thead th {\n",
       "        text-align: right;\n",
       "    }\n",
       "</style>\n",
       "<table border=\"1\" class=\"dataframe\">\n",
       "  <thead>\n",
       "    <tr style=\"text-align: right;\">\n",
       "      <th></th>\n",
       "      <th>Age</th>\n",
       "      <th>Turnover</th>\n",
       "      <th>BusinessTravel</th>\n",
       "      <th>DailyRate</th>\n",
       "      <th>Department</th>\n",
       "      <th>DistanceFromHome</th>\n",
       "      <th>Education</th>\n",
       "      <th>EducationField</th>\n",
       "      <th>EmployeeCount</th>\n",
       "      <th>EmployeeNumber</th>\n",
       "      <th>...</th>\n",
       "      <th>RelationshipSatisfaction</th>\n",
       "      <th>StandardHours</th>\n",
       "      <th>StockOptionLevel</th>\n",
       "      <th>TotalWorkingYears</th>\n",
       "      <th>TrainingTimesLastYear</th>\n",
       "      <th>WorkLifeBalance</th>\n",
       "      <th>YearsAtCompany</th>\n",
       "      <th>YearsInCurrentRole</th>\n",
       "      <th>YearsSinceLastPromotion</th>\n",
       "      <th>YearsWithCurrManager</th>\n",
       "    </tr>\n",
       "  </thead>\n",
       "  <tbody>\n",
       "  </tbody>\n",
       "</table>\n",
       "<p>0 rows × 35 columns</p>\n",
       "</div>"
      ],
      "text/plain": [
       "Empty DataFrame\n",
       "Columns: [Age, Turnover, BusinessTravel, DailyRate, Department, DistanceFromHome, Education, EducationField, EmployeeCount, EmployeeNumber, EnvironmentSatisfaction, Gender, HourlyRate, JobInvolvement, JobLevel, JobRole, JobSatisfaction, MaritalStatus, MonthlyIncome, MonthlyRate, NumCompaniesWorked, Over18, OverTime, PercentSalaryHike, PerformanceRating, RelationshipSatisfaction, StandardHours, StockOptionLevel, TotalWorkingYears, TrainingTimesLastYear, WorkLifeBalance, YearsAtCompany, YearsInCurrentRole, YearsSinceLastPromotion, YearsWithCurrManager]\n",
       "Index: []\n",
       "\n",
       "[0 rows x 35 columns]"
      ]
     },
     "execution_count": 88,
     "metadata": {},
     "output_type": "execute_result"
    }
   ],
   "source": [
    "df[df['EmployeeNumber'] == 9994]"
   ]
  },
  {
   "cell_type": "markdown",
   "id": "3a42ebc3-d1ca-40e2-b016-f3322bff2957",
   "metadata": {},
   "source": [
    "EmployeeNumber 9994 has a negative value of TotalWorkingYears, which is an inconsistent entry in the data because an employee can never have a negative total amount of working years. If we try to replace the value with the mean of TotalWorkingYears, the value will be higher than the Age value, which is also an inconsistent entry. Therefore, we will drop this row instead."
   ]
  },
  {
   "cell_type": "code",
   "execution_count": 89,
   "id": "21d0fe84-2fee-4bd5-8e0a-44fd70647a7d",
   "metadata": {},
   "outputs": [],
   "source": [
    "emp_numbers_update = [8115, 21, 194]\n",
    "df.loc[df['EmployeeNumber'].isin(emp_numbers_update), 'EmployeeCount'] = 1 #updated the rows' employeecount values to 1"
   ]
  },
  {
   "cell_type": "code",
   "execution_count": 90,
   "id": "bca531b0-4955-43da-8cf9-e64d22262040",
   "metadata": {},
   "outputs": [
    {
     "data": {
      "text/html": [
       "<div>\n",
       "<style scoped>\n",
       "    .dataframe tbody tr th:only-of-type {\n",
       "        vertical-align: middle;\n",
       "    }\n",
       "\n",
       "    .dataframe tbody tr th {\n",
       "        vertical-align: top;\n",
       "    }\n",
       "\n",
       "    .dataframe thead th {\n",
       "        text-align: right;\n",
       "    }\n",
       "</style>\n",
       "<table border=\"1\" class=\"dataframe\">\n",
       "  <thead>\n",
       "    <tr style=\"text-align: right;\">\n",
       "      <th></th>\n",
       "      <th>Age</th>\n",
       "      <th>Turnover</th>\n",
       "      <th>BusinessTravel</th>\n",
       "      <th>DailyRate</th>\n",
       "      <th>Department</th>\n",
       "      <th>DistanceFromHome</th>\n",
       "      <th>Education</th>\n",
       "      <th>EducationField</th>\n",
       "      <th>EmployeeCount</th>\n",
       "      <th>EmployeeNumber</th>\n",
       "      <th>...</th>\n",
       "      <th>RelationshipSatisfaction</th>\n",
       "      <th>StandardHours</th>\n",
       "      <th>StockOptionLevel</th>\n",
       "      <th>TotalWorkingYears</th>\n",
       "      <th>TrainingTimesLastYear</th>\n",
       "      <th>WorkLifeBalance</th>\n",
       "      <th>YearsAtCompany</th>\n",
       "      <th>YearsInCurrentRole</th>\n",
       "      <th>YearsSinceLastPromotion</th>\n",
       "      <th>YearsWithCurrManager</th>\n",
       "    </tr>\n",
       "  </thead>\n",
       "  <tbody>\n",
       "    <tr>\n",
       "      <th>140</th>\n",
       "      <td>50</td>\n",
       "      <td>No</td>\n",
       "      <td>Yes</td>\n",
       "      <td>547</td>\n",
       "      <td>Hardware</td>\n",
       "      <td>13</td>\n",
       "      <td>4</td>\n",
       "      <td>Medical</td>\n",
       "      <td>1</td>\n",
       "      <td>8115</td>\n",
       "      <td>...</td>\n",
       "      <td>3</td>\n",
       "      <td>80</td>\n",
       "      <td>1</td>\n",
       "      <td>23</td>\n",
       "      <td>3</td>\n",
       "      <td>3</td>\n",
       "      <td>20</td>\n",
       "      <td>13</td>\n",
       "      <td>12</td>\n",
       "      <td>4</td>\n",
       "    </tr>\n",
       "    <tr>\n",
       "      <th>7167</th>\n",
       "      <td>56</td>\n",
       "      <td>No</td>\n",
       "      <td>No</td>\n",
       "      <td>105</td>\n",
       "      <td>Support</td>\n",
       "      <td>38</td>\n",
       "      <td>5</td>\n",
       "      <td>Other</td>\n",
       "      <td>1</td>\n",
       "      <td>21</td>\n",
       "      <td>...</td>\n",
       "      <td>1</td>\n",
       "      <td>80</td>\n",
       "      <td>3</td>\n",
       "      <td>29</td>\n",
       "      <td>2</td>\n",
       "      <td>1</td>\n",
       "      <td>22</td>\n",
       "      <td>5</td>\n",
       "      <td>20</td>\n",
       "      <td>7</td>\n",
       "    </tr>\n",
       "    <tr>\n",
       "      <th>7877</th>\n",
       "      <td>28</td>\n",
       "      <td>Yes</td>\n",
       "      <td>No</td>\n",
       "      <td>929</td>\n",
       "      <td>Research &amp; Development</td>\n",
       "      <td>12</td>\n",
       "      <td>2</td>\n",
       "      <td>Human Resources</td>\n",
       "      <td>1</td>\n",
       "      <td>194</td>\n",
       "      <td>...</td>\n",
       "      <td>2</td>\n",
       "      <td>80</td>\n",
       "      <td>3</td>\n",
       "      <td>22</td>\n",
       "      <td>3</td>\n",
       "      <td>1</td>\n",
       "      <td>7</td>\n",
       "      <td>1</td>\n",
       "      <td>4</td>\n",
       "      <td>1</td>\n",
       "    </tr>\n",
       "  </tbody>\n",
       "</table>\n",
       "<p>3 rows × 35 columns</p>\n",
       "</div>"
      ],
      "text/plain": [
       "      Age Turnover BusinessTravel  DailyRate              Department  \\\n",
       "140    50       No            Yes        547                Hardware   \n",
       "7167   56       No             No        105                 Support   \n",
       "7877   28      Yes             No        929  Research & Development   \n",
       "\n",
       "      DistanceFromHome  Education   EducationField  EmployeeCount  \\\n",
       "140                 13          4          Medical              1   \n",
       "7167                38          5            Other              1   \n",
       "7877                12          2  Human Resources              1   \n",
       "\n",
       "      EmployeeNumber  ...  RelationshipSatisfaction StandardHours  \\\n",
       "140             8115  ...                         3            80   \n",
       "7167              21  ...                         1            80   \n",
       "7877             194  ...                         2            80   \n",
       "\n",
       "      StockOptionLevel  TotalWorkingYears  TrainingTimesLastYear  \\\n",
       "140                  1                 23                      3   \n",
       "7167                 3                 29                      2   \n",
       "7877                 3                 22                      3   \n",
       "\n",
       "     WorkLifeBalance  YearsAtCompany YearsInCurrentRole  \\\n",
       "140                3              20                 13   \n",
       "7167               1              22                  5   \n",
       "7877               1               7                  1   \n",
       "\n",
       "      YearsSinceLastPromotion  YearsWithCurrManager  \n",
       "140                        12                     4  \n",
       "7167                       20                     7  \n",
       "7877                        4                     1  \n",
       "\n",
       "[3 rows x 35 columns]"
      ]
     },
     "execution_count": 90,
     "metadata": {},
     "output_type": "execute_result"
    }
   ],
   "source": [
    "df[df['EmployeeNumber'].isin([8115, 21, 194])]"
   ]
  },
  {
   "cell_type": "markdown",
   "id": "3c3f41ed-7bcc-46fc-9827-ffb6f9782510",
   "metadata": {},
   "source": [
    "Since there were multiple rows that did not have an EmployeeCount value of 1, their EmployeeCount values must be updated. I was able to update their values by using the .loc indexer which accesses and modifies column values of specific rows. The EmployeeCount value was updated to 1 for employees with numbers 8115, 21, and 194."
   ]
  },
  {
   "cell_type": "code",
   "execution_count": 91,
   "id": "0443086c-a11d-4a28-9624-279a09695a4c",
   "metadata": {},
   "outputs": [],
   "source": [
    "mean_monthlyincome = df['MonthlyIncome'].mean()\n",
    "df.loc[df['EmployeeNumber'] == 1362, 'MonthlyIncome'] = mean_monthlyincome"
   ]
  },
  {
   "cell_type": "code",
   "execution_count": 92,
   "id": "a7e49965-b83f-41d1-87b4-1e76d7805440",
   "metadata": {},
   "outputs": [
    {
     "data": {
      "text/html": [
       "<div>\n",
       "<style scoped>\n",
       "    .dataframe tbody tr th:only-of-type {\n",
       "        vertical-align: middle;\n",
       "    }\n",
       "\n",
       "    .dataframe tbody tr th {\n",
       "        vertical-align: top;\n",
       "    }\n",
       "\n",
       "    .dataframe thead th {\n",
       "        text-align: right;\n",
       "    }\n",
       "</style>\n",
       "<table border=\"1\" class=\"dataframe\">\n",
       "  <thead>\n",
       "    <tr style=\"text-align: right;\">\n",
       "      <th></th>\n",
       "      <th>EmployeeNumber</th>\n",
       "      <th>MonthlyIncome</th>\n",
       "    </tr>\n",
       "  </thead>\n",
       "  <tbody>\n",
       "    <tr>\n",
       "      <th>9962</th>\n",
       "      <td>1362</td>\n",
       "      <td>25798.418182</td>\n",
       "    </tr>\n",
       "  </tbody>\n",
       "</table>\n",
       "</div>"
      ],
      "text/plain": [
       "      EmployeeNumber  MonthlyIncome\n",
       "9962            1362   25798.418182"
      ]
     },
     "execution_count": 92,
     "metadata": {},
     "output_type": "execute_result"
    }
   ],
   "source": [
    "df.loc[df['EmployeeNumber'] == 1362, ['EmployeeNumber','MonthlyIncome']]"
   ]
  },
  {
   "cell_type": "markdown",
   "id": "ba27785a-635f-4db1-9294-e40f059d6fdf",
   "metadata": {},
   "source": [
    "I modified this inconsistent row with a negative MonthlyIncome value by replacing it with the mean of all the MonthlyIncome values. I used the .loc indexer to access and modify the MonthlyIncome value of a specific employeeNumber. "
   ]
  },
  {
   "cell_type": "markdown",
   "id": "935ae0fe-da43-4f0f-a970-897176713bee",
   "metadata": {},
   "source": [
    "### Explaining why I chose the specific data cleaning technique"
   ]
  },
  {
   "cell_type": "markdown",
   "id": "5f3f7c85-dd74-4e4e-8873-f8a67a47d015",
   "metadata": {},
   "source": [
    "I decided to remove the row that contains a negative total amount of working years because keeping an inconsistent entry like this one can compromise the overall quality of the data. By dropping inconsistent rows, it prevents analytical errors and facilitates accurate insights. Also, replacing the negative value with the mean, mode or median won't work because Age has to be taken into consideration."
   ]
  },
  {
   "cell_type": "markdown",
   "id": "b0d37997-14bb-4ba0-956f-c19e61a3962a",
   "metadata": {},
   "source": [
    "I changed the EmployeeCount value to 1 for employee numbers 8115, 21, and 194 because each row in the dataset has an EmployeeCount value of 1. It is important to have consistent data to help make accurate insights. I did not drop the rows because the modification is not that significant, and the rows may contain useful information."
   ]
  },
  {
   "cell_type": "markdown",
   "id": "901f3578-d59f-41a1-888b-3ddae0613ff7",
   "metadata": {},
   "source": [
    "I replaced the row with a negative MonthlyIncome value with the mean of all MonthlyIncome values to prevent bias in the analysis and preserve the overall average of the dataset. It is impossible to have a negative monthly income value so it had to be fixed. I did not drop the row because it may contain useful information in the analysis."
   ]
  },
  {
   "cell_type": "markdown",
   "id": "36807c5b-61ff-4d8b-881f-4636028ea7e9",
   "metadata": {},
   "source": [
    "## Outliers"
   ]
  },
  {
   "cell_type": "markdown",
   "id": "022c67c5-7bfd-4a6f-bbb2-6dec5e93554a",
   "metadata": {},
   "source": [
    "### Outliers in the Age column"
   ]
  },
  {
   "cell_type": "code",
   "execution_count": 93,
   "id": "10ed6e5d-9fac-4d56-b2da-b63749762d85",
   "metadata": {},
   "outputs": [
    {
     "data": {
      "image/png": "[encoded data removed]",
      "text/plain": [
       "<Figure size 1000x600 with 1 Axes>"
      ]
     },
     "metadata": {},
     "output_type": "display_data"
    }
   ],
   "source": [
    "%matplotlib inline\n",
    "plt.figure(figsize=(10, 6))\n",
    "sns.boxplot(x=df['Age'], color='cyan')\n",
    "plt.title('Boxplot of Age')\n",
    "plt.xlabel('Age')\n",
    "plt.grid()\n",
    "plt.show()"
   ]
  },
  {
   "cell_type": "code",
   "execution_count": 94,
   "id": "f318a910-e282-45f8-9e52-56dc3c2ba244",
   "metadata": {},
   "outputs": [
    {
     "name": "stdout",
     "output_type": "stream",
     "text": [
      "      Age\n",
      "69    148\n",
      "4363   96\n"
     ]
    }
   ],
   "source": [
    "Q1 = df['Age'].quantile(0.25)\n",
    "Q3 = df['Age'].quantile(0.75)\n",
    "IQR = Q3 - Q1\n",
    "\n",
    "lower_bound = Q1 - 1.5 * IQR\n",
    "upper_bound = Q3 + 1.5 * IQR\n",
    "\n",
    "outliers = df[(df['Age'] < lower_bound) | (df['Age'] > upper_bound)]\n",
    "print(outliers[['Age']])"
   ]
  },
  {
   "cell_type": "markdown",
   "id": "8d85363d-912d-405d-8feb-29cd271a06ea",
   "metadata": {},
   "source": [
    "### Outliers in the DistanceFromHome column"
   ]
  },
  {
   "cell_type": "code",
   "execution_count": 95,
   "id": "ad26fb5b-3b0b-4e18-baaa-6e4cd4aae628",
   "metadata": {},
   "outputs": [
    {
     "data": {
      "image/png": "[encoded data removed]",
      "text/plain": [
       "<Figure size 1000x600 with 1 Axes>"
      ]
     },
     "metadata": {},
     "output_type": "display_data"
    }
   ],
   "source": [
    "%matplotlib inline\n",
    "plt.figure(figsize=(10, 6))\n",
    "sns.boxplot(x=df['DistanceFromHome'], color='cyan')\n",
    "plt.title('Boxplot of DistanceFromHome')\n",
    "plt.xlabel('DistanceFromHome')\n",
    "plt.grid()\n",
    "plt.show()"
   ]
  },
  {
   "cell_type": "code",
   "execution_count": 96,
   "id": "94b2ad57-a2eb-4c3c-b701-ab42855689d7",
   "metadata": {},
   "outputs": [
    {
     "name": "stdout",
     "output_type": "stream",
     "text": [
      "      DistanceFromHome\n",
      "4421              3737\n",
      "9087              3535\n",
      "9870               978\n"
     ]
    }
   ],
   "source": [
    "Q1 = df['DistanceFromHome'].quantile(0.25)\n",
    "Q3 = df['DistanceFromHome'].quantile(0.75)\n",
    "IQR = Q3 - Q1\n",
    "\n",
    "lower_bound = Q1 - 1.5 * IQR\n",
    "upper_bound = Q3 + 1.5 * IQR\n",
    "\n",
    "outliers = df[(df['DistanceFromHome'] < lower_bound) | (df['DistanceFromHome'] > upper_bound)]\n",
    "print(outliers[['DistanceFromHome']])"
   ]
  },
  {
   "cell_type": "markdown",
   "id": "4cd31d44-8274-4c00-807c-4c2ce90d35ac",
   "metadata": {},
   "source": [
    "### Outliers in the TotalWorkingYears column"
   ]
  },
  {
   "cell_type": "code",
   "execution_count": 97,
   "id": "4198d6ac-f187-433a-8524-da8a90f78a42",
   "metadata": {},
   "outputs": [
    {
     "data": {
      "image/png": "[encoded data removed]",
      "text/plain": [
       "<Figure size 1000x600 with 1 Axes>"
      ]
     },
     "metadata": {},
     "output_type": "display_data"
    }
   ],
   "source": [
    "%matplotlib inline\n",
    "plt.figure(figsize=(10, 6))\n",
    "sns.boxplot(x=df['TotalWorkingYears'], color='cyan')\n",
    "plt.title('Boxplot of TotalWorkingYears')\n",
    "plt.xlabel('TotalWorkingYears')\n",
    "plt.grid()\n",
    "plt.show()"
   ]
  },
  {
   "cell_type": "code",
   "execution_count": 98,
   "id": "1d88b4eb-456e-462f-81b6-5e57f3f2d9cb",
   "metadata": {},
   "outputs": [
    {
     "name": "stdout",
     "output_type": "stream",
     "text": [
      "      TotalWorkingYears\n",
      "8707                222\n"
     ]
    }
   ],
   "source": [
    "Q1 = df['TotalWorkingYears'].quantile(0.25)\n",
    "Q3 = df['TotalWorkingYears'].quantile(0.75)\n",
    "IQR = Q3 - Q1\n",
    "\n",
    "lower_bound = Q1 - 1.5 * IQR\n",
    "upper_bound = Q3 + 1.5 * IQR\n",
    "\n",
    "outliers = df[(df['TotalWorkingYears'] < lower_bound) | (df['TotalWorkingYears'] > upper_bound)]\n",
    "print(outliers[['TotalWorkingYears']])"
   ]
  },
  {
   "cell_type": "markdown",
   "id": "c146d9cd-349d-4238-8524-10ed9c015042",
   "metadata": {},
   "source": [
    "For the quality issue of outliers, there are multiple columns in the data that need to be examined for outliers, and they are Age, DistanceFromHome, and TotalWorkingYears columns. For these columns, I used a box plot and the interquartile range (IQR) method to identify outliers. The IQR is a very useful method, as it specifically tells the value and the row where the outlier is from. "
   ]
  },
  {
   "cell_type": "markdown",
   "id": "d6cde3e5-eb97-407b-b8a9-248b278c3592",
   "metadata": {},
   "source": [
    "### Explanation of the results"
   ]
  },
  {
   "cell_type": "markdown",
   "id": "b00f986b-e8bb-4da4-b0d1-be516ff0679c",
   "metadata": {},
   "source": [
    "Looking at the boxplot for the Age column, there are two significant outliers. Using the IQR method, we can see the specific values of these outliers, and they are 148 and 96. These values of ages do not seem right. As for the boxplot for the DistanceFromHome, there are three significant outliers. Using the IQR method, we see that the values of these outliers are 3737, 3535, and 978. These values are outliers and they need to be fixed. As for the boxplot for the TotalWorkingYears column, there is one significant outlier. With the help of the IQR method, we identified that the value of the outlier is 222. It is imposible to have 222 total working years. This outlier will need to be fixed."
   ]
  },
  {
   "cell_type": "markdown",
   "id": "26379c4a-11b6-4327-8a4c-86500df25268",
   "metadata": {},
   "source": [
    "### Fixing outliers"
   ]
  },
  {
   "cell_type": "code",
   "execution_count": 99,
   "id": "b7e8779d-160f-4394-bc9f-e7389a022507",
   "metadata": {},
   "outputs": [
    {
     "name": "stdout",
     "output_type": "stream",
     "text": [
      "      Age\n",
      "69    148\n",
      "4363   96\n"
     ]
    }
   ],
   "source": [
    "Q1 = df['Age'].quantile(0.25)\n",
    "Q3 = df['Age'].quantile(0.75)\n",
    "IQR = Q3 - Q1\n",
    "\n",
    "lower_bound = Q1 - 1.5 * IQR\n",
    "upper_bound = Q3 + 1.5 * IQR\n",
    "\n",
    "outliers = df[(df['Age'] < lower_bound) | (df['Age'] > upper_bound)]\n",
    "print(outliers[['Age']])"
   ]
  },
  {
   "cell_type": "code",
   "execution_count": 100,
   "id": "fce4304d-520f-43f6-b4a8-8a7c8b57bf65",
   "metadata": {},
   "outputs": [],
   "source": [
    "median_age = df['Age'].median() #median age is 39\n",
    "df.loc[[69,4363], 'Age'] = median_age "
   ]
  },
  {
   "cell_type": "code",
   "execution_count": 101,
   "id": "2a385ae9-9fbe-4e19-a3d2-1c7f05aa46e8",
   "metadata": {},
   "outputs": [
    {
     "data": {
      "image/png": "[encoded data removed]",
      "text/plain": [
       "<Figure size 1000x600 with 1 Axes>"
      ]
     },
     "metadata": {},
     "output_type": "display_data"
    }
   ],
   "source": [
    "%matplotlib inline\n",
    "plt.figure(figsize=(10, 6))\n",
    "sns.boxplot(x=df['Age'], color='cyan')\n",
    "plt.title('Boxplot of Age')\n",
    "plt.xlabel('Age')\n",
    "plt.grid()\n",
    "plt.show()"
   ]
  },
  {
   "cell_type": "markdown",
   "id": "a02a4706-cd55-4a12-99f4-27acbc183766",
   "metadata": {},
   "source": [
    "Before modifying the outliers, there were outliers in the Age column with values 148 and 96. Insted of removing the outliers completely, I replaced their values with the median of all the Age values. I was able to replace it by using the .loc indexer to access and modify the rows where the Age values 148 and 96 were from, and replaced it with the median age. "
   ]
  },
  {
   "cell_type": "code",
   "execution_count": 102,
   "id": "7766ee5b-065f-47cc-8631-46caf484775e",
   "metadata": {},
   "outputs": [
    {
     "name": "stdout",
     "output_type": "stream",
     "text": [
      "      DistanceFromHome\n",
      "4421              3737\n",
      "9087              3535\n",
      "9870               978\n"
     ]
    }
   ],
   "source": [
    "Q1 = df['DistanceFromHome'].quantile(0.25)\n",
    "Q3 = df['DistanceFromHome'].quantile(0.75)\n",
    "IQR = Q3 - Q1\n",
    "\n",
    "lower_bound = Q1 - 1.5 * IQR\n",
    "upper_bound = Q3 + 1.5 * IQR\n",
    "\n",
    "outliers = df[(df['DistanceFromHome'] < lower_bound) | (df['DistanceFromHome'] > upper_bound)]\n",
    "print(outliers[['DistanceFromHome']])"
   ]
  },
  {
   "cell_type": "code",
   "execution_count": 103,
   "id": "0493c499-e9f8-4416-8bf5-2d13997cd198",
   "metadata": {},
   "outputs": [],
   "source": [
    "median_distancefromhome = df['DistanceFromHome'].median() #DistanceFromHome median value is 25\n",
    "df.loc[[4421,9087,9870], 'DistanceFromHome'] = median_distancefromhome"
   ]
  },
  {
   "cell_type": "code",
   "execution_count": 104,
   "id": "f5c868a7-9332-456f-a881-b1c5884a4f33",
   "metadata": {},
   "outputs": [
    {
     "data": {
      "image/png": "[encoded data removed]",
      "text/plain": [
       "<Figure size 1000x600 with 1 Axes>"
      ]
     },
     "metadata": {},
     "output_type": "display_data"
    }
   ],
   "source": [
    "%matplotlib inline\n",
    "plt.figure(figsize=(10, 6))\n",
    "sns.boxplot(x=df['DistanceFromHome'], color='cyan')\n",
    "plt.title('Boxplot of DistanceFromHome')\n",
    "plt.xlabel('DistanceFromHome')\n",
    "plt.grid()\n",
    "plt.show()"
   ]
  },
  {
   "cell_type": "markdown",
   "id": "1cec5b11-f4db-4d60-a9a7-e58240e23e1c",
   "metadata": {},
   "source": [
    "Before modifying the outliers, there were outliers in the DistanceFromHome column with values 3737, 3535, and 978. Instead of removing these outliers, I replaced the values with the median of all DistanceFromHome values. I used the .loc indexer to modify the rows where the DistanceFromHome values 3737, 3535, and 978 were from, and replaced it with the DistanceFromHome median value. "
   ]
  },
  {
   "cell_type": "code",
   "execution_count": 105,
   "id": "4dfd2f59-f7ef-4fac-af01-728678c1484e",
   "metadata": {},
   "outputs": [
    {
     "name": "stdout",
     "output_type": "stream",
     "text": [
      "      TotalWorkingYears\n",
      "8707                222\n"
     ]
    }
   ],
   "source": [
    "Q1 = df['TotalWorkingYears'].quantile(0.25)\n",
    "Q3 = df['TotalWorkingYears'].quantile(0.75)\n",
    "IQR = Q3 - Q1\n",
    "\n",
    "lower_bound = Q1 - 1.5 * IQR\n",
    "upper_bound = Q3 + 1.5 * IQR\n",
    "\n",
    "outliers = df[(df['TotalWorkingYears'] < lower_bound) | (df['TotalWorkingYears'] > upper_bound)]\n",
    "print(outliers[['TotalWorkingYears']])"
   ]
  },
  {
   "cell_type": "code",
   "execution_count": 106,
   "id": "903c53ab-66bd-44e4-a0c6-a001442e9a24",
   "metadata": {},
   "outputs": [],
   "source": [
    "median_totalworkingyears = df['TotalWorkingYears'].median() #median totalworkingyears is 21\n",
    "df.loc[8707, 'TotalWorkingYears'] = median_distancefromhome"
   ]
  },
  {
   "cell_type": "code",
   "execution_count": 107,
   "id": "61fa6d99-b290-4b68-b8a1-99bc00286f87",
   "metadata": {},
   "outputs": [
    {
     "data": {
      "image/png": "[encoded data removed]",
      "text/plain": [
       "<Figure size 1000x600 with 1 Axes>"
      ]
     },
     "metadata": {},
     "output_type": "display_data"
    }
   ],
   "source": [
    "%matplotlib inline\n",
    "plt.figure(figsize=(10, 6))\n",
    "sns.boxplot(x=df['TotalWorkingYears'], color='cyan')\n",
    "plt.title('Boxplot of TotalWorkingYears')\n",
    "plt.xlabel('TotalWorkingYears')\n",
    "plt.grid()\n",
    "plt.show()"
   ]
  },
  {
   "cell_type": "markdown",
   "id": "d7b7d5be-49f0-4705-95db-3de0562142da",
   "metadata": {},
   "source": [
    "Before modifying the outliers, there was an outlier in the TotalWorkingYears column with the value 222. Instead of removing this outlier, I replaced the value with the median of all TotalWorkingYears values. I used the .loc indexer to modify the row where the TotalWorkingYears value 222 was from, and replaced it with the TotalWorkingYears median value."
   ]
  },
  {
   "cell_type": "markdown",
   "id": "db6d4ba5-09db-4a74-97ea-dd44ad3b68aa",
   "metadata": {},
   "source": [
    "### Explaining why I chose the specific data cleaning technique"
   ]
  },
  {
   "cell_type": "markdown",
   "id": "2075bf08-9308-4f20-b08c-82fd1481c995",
   "metadata": {},
   "source": [
    "In the Age column, I fixed the outliers by replacing its Age values with the median value of all Age values. The reason for replacement is not only to remove the outliers in the Age column, but to also preserve the original distribution of the data. I also avoided dropping the outliers completely, as the rows with outliers still have valid data for the rest of the columns in the dataset. Additionally, using the median value for a discrete variable like age is more ideal than using the mean value."
   ]
  },
  {
   "cell_type": "markdown",
   "id": "da7542ef-e156-4a01-8491-fd1e0a60836c",
   "metadata": {},
   "source": [
    "In the DistanceFromHome column, I fixed the outliers by replacing its DistanceFromHome values with the median value of all DistanceFromHome values. I used the median value to maintain the data distribution of the column and for consistency. I avoided dropping the rows where the outliers were from because they still contain useful data for other columns."
   ]
  },
  {
   "cell_type": "markdown",
   "id": "0a8128c7-a51b-4b07-97d6-ed4f4e5618fa",
   "metadata": {},
   "source": [
    "In the TotalWorkingYears column, I fixed the outlier by replacing its TotalWorkingYears value with the median value of all TotalWorkingYears values. I used the median value because it is ideal for discrete variables like TotalWorkingYears. By replacing the value, we got rid of the outlier and still retained the row which the outlier was from. "
   ]
  },
  {
   "cell_type": "markdown",
   "id": "63bcc025-3463-494f-8614-78c3a6e5893e",
   "metadata": {},
   "source": [
    "## Saving and exporting the cleaned CSV file"
   ]
  },
  {
   "cell_type": "code",
   "execution_count": 44,
   "id": "f0219fe9-ff08-4f09-8988-9dde014d46eb",
   "metadata": {},
   "outputs": [],
   "source": [
    "output_path = 'cleaned_employee_turnover_dataset.csv'\n",
    "df.to_csv(output_path, index=False)"
   ]
  },
  {
   "cell_type": "code",
   "execution_count": null,
   "id": "cde8ae05-c45c-4568-87a8-e918d2fc7e39",
   "metadata": {},
   "outputs": [],
   "source": []
  }
 ],
 "metadata": {
  "kernelspec": {
   "display_name": "Python 3 (ipykernel)",
   "language": "python",
   "name": "python3"
  },
  "language_info": {
   "codemirror_mode": {
    "name": "ipython",
    "version": 3
   },
   "file_extension": ".py",
   "mimetype": "text/x-python",
   "name": "python",
   "nbconvert_exporter": "python",
   "pygments_lexer": "ipython3",
   "version": "3.11.7"
  }
 },
 "nbformat": 4,
 "nbformat_minor": 5
}
